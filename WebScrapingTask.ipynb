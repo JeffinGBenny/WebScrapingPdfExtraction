{
  "nbformat": 4,
  "nbformat_minor": 0,
  "metadata": {
    "colab": {
      "name": "WebScrapingTask.ipynb",
      "provenance": [],
      "collapsed_sections": []
    },
    "kernelspec": {
      "name": "python3",
      "display_name": "Python 3"
    },
    "language_info": {
      "name": "python"
    }
  },
  "cells": [
    {
      "cell_type": "code",
      "metadata": {
        "colab": {
          "base_uri": "https://localhost:8080/"
        },
        "id": "MWo7joFy0fod",
        "outputId": "59e95005-0cdf-4e95-f40e-f6d7dc97bc89"
      },
      "source": [
        "pip install mechanize"
      ],
      "execution_count": 4,
      "outputs": [
        {
          "output_type": "stream",
          "name": "stdout",
          "text": [
            "Collecting mechanize\n",
            "  Downloading mechanize-0.4.6-py2.py3-none-any.whl (109 kB)\n",
            "\u001b[?25l\r\u001b[K     |███                             | 10 kB 23.5 MB/s eta 0:00:01\r\u001b[K     |██████                          | 20 kB 10.5 MB/s eta 0:00:01\r\u001b[K     |█████████                       | 30 kB 8.3 MB/s eta 0:00:01\r\u001b[K     |████████████                    | 40 kB 7.7 MB/s eta 0:00:01\r\u001b[K     |███████████████                 | 51 kB 4.2 MB/s eta 0:00:01\r\u001b[K     |██████████████████              | 61 kB 4.4 MB/s eta 0:00:01\r\u001b[K     |█████████████████████           | 71 kB 4.6 MB/s eta 0:00:01\r\u001b[K     |████████████████████████        | 81 kB 5.2 MB/s eta 0:00:01\r\u001b[K     |███████████████████████████     | 92 kB 3.9 MB/s eta 0:00:01\r\u001b[K     |██████████████████████████████  | 102 kB 4.3 MB/s eta 0:00:01\r\u001b[K     |████████████████████████████████| 109 kB 4.3 MB/s \n",
            "\u001b[?25hRequirement already satisfied: html5lib>=0.999999999 in /usr/local/lib/python3.7/dist-packages (from mechanize) (1.0.1)\n",
            "Requirement already satisfied: webencodings in /usr/local/lib/python3.7/dist-packages (from html5lib>=0.999999999->mechanize) (0.5.1)\n",
            "Requirement already satisfied: six>=1.9 in /usr/local/lib/python3.7/dist-packages (from html5lib>=0.999999999->mechanize) (1.15.0)\n",
            "Installing collected packages: mechanize\n",
            "Successfully installed mechanize-0.4.6\n"
          ]
        }
      ]
    },
    {
      "cell_type": "code",
      "metadata": {
        "colab": {
          "base_uri": "https://localhost:8080/"
        },
        "id": "DSB08hTa8oDF",
        "outputId": "4ba9e791-a60f-47b2-b33c-a3cd5a7e13a1"
      },
      "source": [
        "pip install re"
      ],
      "execution_count": 5,
      "outputs": [
        {
          "output_type": "stream",
          "name": "stdout",
          "text": [
            "\u001b[31mERROR: Could not find a version that satisfies the requirement re (from versions: none)\u001b[0m\n",
            "\u001b[31mERROR: No matching distribution found for re\u001b[0m\n"
          ]
        }
      ]
    },
    {
      "cell_type": "code",
      "metadata": {
        "colab": {
          "base_uri": "https://localhost:8080/"
        },
        "id": "ofySUNZD0z6r",
        "outputId": "f5bf2ff7-10f6-43e9-f072-02348cd7dfc3"
      },
      "source": [
        "import re\n",
        "import mechanize\n",
        "\n",
        "br = mechanize.Browser()\n",
        "br.open(\"http://164.100.69.66/jsearch/title.php?scode=31\")\n",
        "\n",
        "response1 = br.response()\n",
        "print(br.title())\n",
        "print(response1.geturl())\n",
        "print(response1.info())  # headers\n",
        "print(response1.read())  # body\n",
        "\n",
        "br.select_form(name=\"form3\")\n",
        "\n",
        "respose=br.response()\n",
        "br.form['titlesel']=['O']\n",
        "br.form[\"p_name\"] = \"\" \n",
        "br.form.set_all_readonly(False)\n",
        "br.form[\"frdate\"] = \"03/09/2021\"  \n",
        "br.form[\"todate\"] = \"03/09/2021\" \n",
        "\n",
        "response2 = br.submit()\n",
        "\n",
        "\n",
        "\n",
        "print(response2)"
      ],
      "execution_count": 20,
      "outputs": [
        {
          "output_type": "stream",
          "name": "stdout",
          "text": [
            "Untitled Document\n",
            "http://164.100.69.66/jsearch/title.php?scode=31\n",
            "Date: Sat, 04 Sep 2021 16:04:40 GMT\n",
            "Server: Apache\n",
            "X-FRAME-OPTIONS: SAMEORIGIN, SAMEORIGIN\n",
            "Content-Length: 2215\n",
            "Connection: close\n",
            "Content-Type: text/html; charset=UTF-8\n",
            "content-type: text/html; charset=iso-8859-1\n",
            "\n",
            "\n",
            "b' \\r\\n<html>\\r\\n<head>\\r\\n<meta http-equiv=\"Content-Type\" content=\"text/html; charset=iso-8859-1\" />\\r\\n<title>Untitled Document</title>\\r\\n<script language=\"JavaScript\" src=\"jfun.js\" type=\"text/javascript\"></script>\\r\\n<link href=\"css/main.css\" rel=\"stylesheet\" type=\"text/css\" />\\r\\n<script type=\"text/javascript\" src=\"js/scw.js\"></script>\\r\\n<! <script type=\"text/javascript\" src=\"js/formcheck.js\"></script> \\r\\n</head>\\r\\n<body>\\r\\n\\r\\n<script>\\r\\n    $( function() {\\r\\n    $( \"#datepicker\" ).datepicker();\\r\\n  } );\\r\\n</script>\\r\\n\\r\\n                       \\r\\n    <form action=\"title1.php?scode=31&fflag=1\" target=\"_self\" method=\"post\" name=\"form3\" class=\"style9\" id=\"form1\" onSubmit=\"return formcheck_title()\"> \\r\\n    <table width=\"100%\" border=\"0\" align=\"center\">\\r\\n    <tr><p align=\"center\"> </tr>\\r\\n    <tr>\\r\\n    <td colspan=\"2\"><div align=\"center\" >\\r\\n    <span class=\"style9\"><label><input type=\"radio\" name=\"titlesel\" value=\"P\" />Petitioner</label><label><input type=\"radio\" name=\"titlesel\" value=\"R\" />Respondent</label><label><input type=\"radio\" name=\"titlesel\" value=\"O\" checked  />Don\\'t Know </label></span></div></td></tr>\\r\\n    <tr>\\r\\n    <td width=\"25%\" align=\"right\"><span class=\"style9\">PARTY NAME</span></td><td width=\"75%\">\\r\\n    <input name=\"p_name\" type=\"text\" size=\"35\" maxlength=\"100\" /></td>\\r\\n    </tr> \\r\\n    <tr> \\r\\n        <td width=\"25%\" align=\"right\"><span class=\"style9\"> From</span></td> \\r\\n    <td width=\"75%\">\\r\\n     <input  id=\"frdate\" name=\"frdate\" type=\"text\"  size=\"10\" maxlength=\"10\" value=\"04/09/2021\"  readonly=\"readonly\" /> \\r\\n     <img src=\"img/calen.jpg\" onClick=\"scwShow(scwID(\\'frdate\\'),event);\">\\r\\n     <span class=\"style9\">(dd/mm/yyyy)</span>\\r\\n     </td>\\r\\n    <tr>\\r\\n    <td width=\"25%\" align=\"right\"><span class=\"style9\">To  </span></td>\\r\\n    <td width=\"75%\">\\r\\n    <input  id=\"todate\" name=\"todate\" type=\"text\"  size=\"10\" maxlength=\"10\" value=\"04/09/2021\" readonly=\"readonly\" />\\r\\n    <img src=\"img/calen.jpg\" onClick=\"scwShow(scwID(\\'todate\\'),event);\">\\r\\n       <span class=\"style9\">(dd/mm/yyyy)</span>\\r\\n       </td>\\r\\n       </tr>\\r\\n       <tr><td colspan=\"2\"><div align=\"center\">\\r\\n    <input type=\"submit\" class=\"btn1\" name=\"Submit\" value=\"Submit\" /></div></td></tr></table>\\r\\n    </form>\\r\\n    </body>\\r\\n</html>\\r\\n\\r\\n\\r\\n'\n",
            "<response_seek_wrapper at 0x7fb09d3afed0 whose wrapped object = <closeable_response at 0x7fb09d371cd0 whose fp = <_io.BufferedReader>>>\n"
          ]
        }
      ]
    },
    {
      "cell_type": "code",
      "metadata": {
        "id": "Rtwl4nJJrspp"
      },
      "source": [
        "def downloadlink(linkUrl, referer):\n",
        "    r = br.click_link(linkUrl)\n",
        "    r.add_header(\"Referer\", referer)\n",
        "    br.addheaders = [('User-agent','Mozilla/5.0 (X11; Linux x86_64) AppleWebKit/537.36 (KHTML, like Gecko) Ubuntu Chromium/45.0.2454101')] # add a referer header, just in case\n",
        "    response = br.open(r)\n",
        "    \n",
        "    \n",
        "    filename = os.path.basename(linkUrl.url)\n",
        "\n",
        "    f = open(filename, \"w\") #TODO: perhaps ensure that file doesn't already exist?\n",
        "    f.write(response.read()) # write the response content to disk\n",
        "    print (filename,\" has been downloaded\")\n",
        "    br.back()"
      ],
      "execution_count": 21,
      "outputs": []
    },
    {
      "cell_type": "code",
      "metadata": {
        "colab": {
          "base_uri": "https://localhost:8080/"
        },
        "id": "9UAa2q--uF9a",
        "outputId": "72dc5c2b-10f0-46e7-edc2-2c3e2781e951"
      },
      "source": [
        "!pip install cookielib \n",
        "!pip install urllib2 \n",
        "!pip install os\n",
        "\n"
      ],
      "execution_count": 17,
      "outputs": [
        {
          "output_type": "stream",
          "name": "stdout",
          "text": [
            "\u001b[31mERROR: Could not find a version that satisfies the requirement cookielib (from versions: none)\u001b[0m\n",
            "\u001b[31mERROR: No matching distribution found for cookielib\u001b[0m\n",
            "\u001b[31mERROR: Could not find a version that satisfies the requirement urllib2 (from versions: none)\u001b[0m\n",
            "\u001b[31mERROR: No matching distribution found for urllib2\u001b[0m\n",
            "\u001b[31mERROR: Could not find a version that satisfies the requirement os (from versions: none)\u001b[0m\n",
            "\u001b[31mERROR: No matching distribution found for os\u001b[0m\n"
          ]
        }
      ]
    },
    {
      "cell_type": "code",
      "metadata": {
        "colab": {
          "base_uri": "https://localhost:8080/"
        },
        "id": "HTyrzPZWsXr1",
        "outputId": "bbefce9a-6c7f-4b67-af00-7ad64eaa5909"
      },
      "source": [
        "import os\n",
        "import urllib3\n",
        "print (\"Get all PDF links\\n\")\n",
        "filetypes=[\"pdf\", \"PDF\"] # pattern matching for links, can add more kinds here\n",
        "myfiles=[]\n",
        "br._factory.is_html=True\n",
        "for l in br.links():\n",
        "    #check if this link has the file extension or text we want\n",
        "    myfiles.extend([l for t in filetypes if t in l.url or t in l.text])\n",
        "\n",
        "for l in myfiles:\n",
        "\n",
        "    downloadlink(l,\"http://164.100.69.66/jsearch/title.php?scode=31\" )\n",
        "print(l)"
      ],
      "execution_count": 23,
      "outputs": [
        {
          "output_type": "stream",
          "name": "stdout",
          "text": [
            "Get all PDF links\n",
            "\n",
            "Link(base_url='http://164.100.69.66/jsearch/title1.php?scode=31&fflag=1', url='http://164.100.69.66/jupload/dhc/VKR/judgement/04-09-2021/VKR03092021FAO1752021_144512.pdf', text='03-09-2021', tag='a', attrs=[('target', '_blank'), ('href', 'http://164.100.69.66/jupload/dhc/VKR/judgement/04-09-2021/VKR03092021FAO1752021_144512.pdf')])\n"
          ]
        }
      ]
    }
  ]
}